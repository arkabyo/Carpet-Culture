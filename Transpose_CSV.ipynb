{
  "nbformat": 4,
  "nbformat_minor": 0,
  "metadata": {
    "colab": {
      "name": "Transpose CSV.ipynb",
      "provenance": [],
      "authorship_tag": "ABX9TyNXl33yZWvjJwBZ7igiXdL7",
      "include_colab_link": true
    },
    "kernelspec": {
      "name": "python3",
      "display_name": "Python 3"
    }
  },
  "cells": [
    {
      "cell_type": "markdown",
      "metadata": {
        "id": "view-in-github",
        "colab_type": "text"
      },
      "source": [
        "<a href=\"https://colab.research.google.com/github/arkabyo/Carpet-Culture/blob/master/Transpose_CSV.ipynb\" target=\"_parent\"><img src=\"https://colab.research.google.com/assets/colab-badge.svg\" alt=\"Open In Colab\"/></a>"
      ]
    },
    {
      "cell_type": "markdown",
      "metadata": {
        "id": "21M_meBnHTq8"
      },
      "source": [
        "# Transpose CSV Values using Pandas\r\n",
        "Transpose row values into a single column when each row contains value for one item and have multiple columns\r\n",
        "\r\n",
        "Input CSV\r\n",
        "```\r\n",
        "Col1    Col2    Col3\r\n",
        "V1.1    V1.2    V1.3\r\n",
        "V2.1    V2.2    V2.3\r\n",
        "V3.1    V3.2    V3.3\r\n",
        "```\r\n",
        "Output:\r\n",
        "```\r\n",
        "Col1 V1.1\r\n",
        "Col2 V1.2\r\n",
        "Col3 V1.3\r\n",
        "Col1 V2.1\r\n",
        "Col2 V2.2\r\n",
        "Col3 V2.3\r\n",
        "Col1 V3.1\r\n",
        "Col2 V3.2\r\n",
        "Col3 V3.3\r\n",
        "```"
      ]
    },
    {
      "cell_type": "code",
      "metadata": {
        "id": "6F7jsvekKwcp"
      },
      "source": [
        "#mount Google drive to export data using Google Colab\r\n",
        "from google.colab import drive\r\n",
        "drive.mount('drive')\r\n",
        "\r\n",
        "#import Pandas\r\n",
        "import pandas as pd\r\n",
        "\r\n",
        "#Load CSV into Data Frame\r\n",
        "df = pd.read_csv(r'Link or Path to CSV')\r\n",
        "\r\n",
        "#Copy Stacked Data Frame into a new Data Frame\r\n",
        "df1 = df.stack()\r\n",
        "\r\n",
        "#Save the new data frame to a CSV\r\n",
        "df1.to_csv('FileName.csv')\r\n",
        "\r\n",
        "#Exporting the CSV to Google Drive\r\n",
        "!cp new_feb_10.csv \"drive/My Drive/(Put any directory name if needed)\""
      ],
      "execution_count": null,
      "outputs": []
    }
  ]
}